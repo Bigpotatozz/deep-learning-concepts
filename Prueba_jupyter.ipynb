{
 "cells": [
  {
   "cell_type": "code",
   "execution_count": 3,
   "id": "81cb9695-4e80-4cdd-b2fa-00e176262099",
   "metadata": {},
   "outputs": [],
   "source": [
    "nombre = \"Oscar\""
   ]
  },
  {
   "cell_type": "code",
   "execution_count": null,
   "id": "f78d9018-530f-4669-b68b-595a9e9d8e32",
   "metadata": {},
   "outputs": [],
   "source": [
    "print(nombre)"
   ]
  },
  {
   "cell_type": "code",
   "execution_count": null,
   "id": "adfc7dfb-f600-4fdb-afda-9549e9ba6f1d",
   "metadata": {},
   "outputs": [],
   "source": []
  },
  {
   "cell_type": "markdown",
   "id": "5389efca-2337-4a5a-904c-9431ff989303",
   "metadata": {},
   "source": []
  }
 ],
 "metadata": {
  "kernelspec": {
   "display_name": "Python 3 (ipykernel)",
   "language": "python",
   "name": "python3"
  },
  "language_info": {
   "codemirror_mode": {
    "name": "ipython",
    "version": 3
   },
   "file_extension": ".py",
   "mimetype": "text/x-python",
   "name": "python",
   "nbconvert_exporter": "python",
   "pygments_lexer": "ipython3",
   "version": "3.8.20"
  }
 },
 "nbformat": 4,
 "nbformat_minor": 5
}
