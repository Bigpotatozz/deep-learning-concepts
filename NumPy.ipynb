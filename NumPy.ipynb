{
 "cells": [
  {
   "cell_type": "markdown",
   "id": "c502315d-cd21-4240-a820-0b5a553cc1b0",
   "metadata": {},
   "source": [
    "<h1>¿Qué es NumPy</h1>"
   ]
  },
  {
   "cell_type": "markdown",
   "id": "3049aea6-59f7-448b-9645-34631674b565",
   "metadata": {},
   "source": [
    "Es una libreria matematica que se usa para distintos procesos de estadistica o algebra, le añade mas tipos de datos y funcionalidades a python\n",
    "como lo es los Arrays"
   ]
  },
  {
   "cell_type": "code",
   "execution_count": 1,
   "id": "3e62b0d3-e0a7-4223-b1de-d481bf1ceb95",
   "metadata": {},
   "outputs": [],
   "source": [
    "import numpy as np"
   ]
  },
  {
   "cell_type": "markdown",
   "id": "58bfdb8e-ecd4-4f00-995b-104770e23da7",
   "metadata": {},
   "source": [
    "<h2>Arrays</h2>\n",
    "Un array es el tipico array que se conoce pero numpy le da mas funcionalidad, como hacerlo de distintas dimensiones\n",
    "<h3>Terminos importantes</h3>\n",
    "- A cada dimension se le llama axis (rows) <br>\n",
    "- El numero total de dimensiones (rows) se le dice ranks<br>\n",
    "- Las dimensiones con su longitud (rows and columns) se le llama shape<br>\n",
    "- El total de elementos que contiene el array se le llama size"
   ]
  },
  {
   "cell_type": "code",
   "execution_count": 4,
   "id": "304c9f07-48a7-4841-a860-ba2810a0e0f4",
   "metadata": {},
   "outputs": [
    {
     "name": "stdout",
     "output_type": "stream",
     "text": [
      "[[0. 0. 0.]\n",
      " [0. 0. 0.]]\n"
     ]
    }
   ],
   "source": [
    "array_ejemplo = np.zeros((2,3)) #El primer parametro son las rows el segundo las columns\n",
    "print(array_ejemplo)"
   ]
  },
  {
   "cell_type": "code",
   "execution_count": 6,
   "id": "ebcd5a91-b88c-4e15-9ec3-dce1105f713b",
   "metadata": {},
   "outputs": [
    {
     "data": {
      "text/plain": [
       "(2, 3)"
      ]
     },
     "execution_count": 6,
     "metadata": {},
     "output_type": "execute_result"
    }
   ],
   "source": [
    "array_ejemplo.shape"
   ]
  },
  {
   "cell_type": "code",
   "execution_count": 7,
   "id": "1d9dfc70-d405-4286-a70f-0366dd4897cb",
   "metadata": {},
   "outputs": [
    {
     "data": {
      "text/plain": [
       "2"
      ]
     },
     "execution_count": 7,
     "metadata": {},
     "output_type": "execute_result"
    }
   ],
   "source": [
    "array_ejemplo.ndim #te muestra las dimensiones del arreglo"
   ]
  },
  {
   "cell_type": "code",
   "execution_count": 8,
   "id": "4f5cbccb-3dbf-4033-828f-e28d899ebc03",
   "metadata": {},
   "outputs": [
    {
     "data": {
      "text/plain": [
       "6"
      ]
     },
     "execution_count": 8,
     "metadata": {},
     "output_type": "execute_result"
    }
   ],
   "source": [
    "array_ejemplo.size"
   ]
  },
  {
   "cell_type": "markdown",
   "id": "abaea236-95f6-4a88-8da9-7c506fe264c6",
   "metadata": {},
   "source": [
    "<h3>Creacion de arrays</h3>"
   ]
  },
  {
   "cell_type": "code",
   "execution_count": 16,
   "id": "86d2419a-a471-42c6-bb52-63b71e43dc3a",
   "metadata": {},
   "outputs": [
    {
     "name": "stdout",
     "output_type": "stream",
     "text": [
      "[[[0. 0. 0. 0.]\n",
      "  [0. 0. 0. 0.]]\n",
      "\n",
      " [[0. 0. 0. 0.]\n",
      "  [0. 0. 0. 0.]]\n",
      "\n",
      " [[0. 0. 0. 0.]\n",
      "  [0. 0. 0. 0.]]]\n"
     ]
    }
   ],
   "source": [
    "nuevo_array = np.empty((3,2,4)) #seria un arreglo con 3 niveles, cada nivel con 2 arreglos y cada arreglo con 4 elementos\n",
    "print(nuevo_array)"
   ]
  },
  {
   "cell_type": "code",
   "execution_count": 17,
   "id": "d56f9d02-b396-449a-91e6-f2c1c8ee4b2f",
   "metadata": {},
   "outputs": [
    {
     "data": {
      "text/plain": [
       "array([[1, 2, 3],\n",
       "       [4, 5, 6]])"
      ]
     },
     "execution_count": 17,
     "metadata": {},
     "output_type": "execute_result"
    }
   ],
   "source": [
    "#Array a partir de una lista\n",
    "b = np.array([[1,2,3], [4,5,6]])\n",
    "b"
   ]
  },
  {
   "cell_type": "code",
   "execution_count": 18,
   "id": "6dd5d1fc-4974-41a7-ac02-88107eb0538a",
   "metadata": {},
   "outputs": [
    {
     "data": {
      "text/plain": [
       "array([1.        , 1.44444444, 1.88888889, 2.33333333, 2.77777778,\n",
       "       3.22222222, 3.66666667, 4.11111111, 4.55555556, 5.        ])"
      ]
     },
     "execution_count": 18,
     "metadata": {},
     "output_type": "execute_result"
    }
   ],
   "source": [
    "#Array basado en rangos(inicio, final, cantidad de numeros)\n",
    "b = np.linspace(1, 5, 10)\n",
    "b"
   ]
  },
  {
   "cell_type": "code",
   "execution_count": 20,
   "id": "37677d0f-e5d8-432e-857e-ff740321827f",
   "metadata": {},
   "outputs": [
    {
     "data": {
      "text/plain": [
       "array([[0.58046091, 0.6031117 , 0.81440251, 0.82379819],\n",
       "       [0.84767983, 0.837585  , 0.77223131, 0.39674699]])"
      ]
     },
     "execution_count": 20,
     "metadata": {},
     "output_type": "execute_result"
    }
   ],
   "source": [
    "#Array con valores aleatorios\n",
    "np.random.rand(2,4)"
   ]
  },
  {
   "cell_type": "code",
   "execution_count": 21,
   "id": "1920e961-c565-495a-a8cd-2879760b005e",
   "metadata": {},
   "outputs": [
    {
     "data": {
      "text/plain": [
       "array([[-0.60770868,  0.33938979,  0.38355357,  2.03353974],\n",
       "       [ 0.52284991, -0.72759696, -0.68744005,  0.12710474]])"
      ]
     },
     "execution_count": 21,
     "metadata": {},
     "output_type": "execute_result"
    }
   ],
   "source": [
    "#Array con valores aleatorios de acuerdo a una formula matematica\n",
    "np.random.randn(2,4)"
   ]
  },
  {
   "cell_type": "code",
   "execution_count": null,
   "id": "7ff6f4e7-fdcf-498e-9e50-7c9841ebff37",
   "metadata": {},
   "outputs": [],
   "source": []
  }
 ],
 "metadata": {
  "kernelspec": {
   "display_name": "Python 3 (ipykernel)",
   "language": "python",
   "name": "python3"
  },
  "language_info": {
   "codemirror_mode": {
    "name": "ipython",
    "version": 3
   },
   "file_extension": ".py",
   "mimetype": "text/x-python",
   "name": "python",
   "nbconvert_exporter": "python",
   "pygments_lexer": "ipython3",
   "version": "3.8.20"
  }
 },
 "nbformat": 4,
 "nbformat_minor": 5
}
