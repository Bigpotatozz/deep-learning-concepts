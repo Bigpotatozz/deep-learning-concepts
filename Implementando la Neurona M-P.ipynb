{
 "cells": [
  {
   "cell_type": "markdown",
   "metadata": {},
   "source": [
    "## Neurona de McCulloch y Pitts"
   ]
  },
  {
   "cell_type": "markdown",
   "metadata": {},
   "source": [
    "Se crea la neurona, actualmente es mas un metodo que una neurona como tal debido a su sencillez, por lo tanto se puede implementar en una clase"
   ]
  },
  {
   "cell_type": "code",
   "execution_count": null,
   "metadata": {},
   "outputs": [],
   "source": [
    "import numpy as np\n",
    "\n",
    "class MPNeuron:\n",
    "\n",
    "    # Se hace referencia a la misma clase y se inicializa como None el treshold\n",
    "    def __init__(self):\n",
    "        self.threshold = None\n",
    "\n",
    "    # En la funcion model se instancia asi misma (this) y se define x que es el valor a evaluar\n",
    "    \n",
    "    def model(self, x):\n",
    "        # suma todos los valores de x para luego asignar a la variable z\n",
    "        z = sum(x)\n",
    "\n",
    "        #Aqui verifica si la suma de todos los valores es mayor o igual al treshold\n",
    "        #Si es mayor o igual dara True 1\n",
    "        #Si es menor dara False 0 \n",
    "        return (z >= self.threshold)\n",
    "\n",
    "    # La funcion de prediccion se utiliza \n",
    "    def predict(self, X):\n",
    "        # input: [[1, 0, 1, 0], [1, 0, 1, 1]]\n",
    "        Y = []\n",
    "        for x in X:\n",
    "            result = self.model(x)\n",
    "            Y.append(result)\n",
    "        return np.array(Y)"
   ]
  },
  {
   "cell_type": "code",
   "execution_count": null,
   "metadata": {},
   "outputs": [],
   "source": [
    "# Instanciamos la neurona\n",
    "mp_neuron = MPNeuron()"
   ]
  },
  {
   "cell_type": "code",
   "execution_count": null,
   "metadata": {},
   "outputs": [],
   "source": [
    "# Establecemos un threshold\n",
    "mp_neuron.threshold = 4"
   ]
  },
  {
   "cell_type": "code",
   "execution_count": null,
   "metadata": {},
   "outputs": [],
   "source": [
    "# Evaluamos diferentes casos de uso\n",
    "mp_neuron.predict([[1, 0, 0, 0], [1, 1, 1, 1], [1, 1, 1, 0]])"
   ]
  }
 ],
 "metadata": {
  "kernelspec": {
   "display_name": "Python 3 (ipykernel)",
   "language": "python",
   "name": "python3"
  },
  "language_info": {
   "codemirror_mode": {
    "name": "ipython",
    "version": 3
   },
   "file_extension": ".py",
   "mimetype": "text/x-python",
   "name": "python",
   "nbconvert_exporter": "python",
   "pygments_lexer": "ipython3",
   "version": "3.8.20"
  }
 },
 "nbformat": 4,
 "nbformat_minor": 4
}
